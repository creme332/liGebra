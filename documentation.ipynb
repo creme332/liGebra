{
 "cells": [
  {
   "cell_type": "code",
   "execution_count": 1,
   "metadata": {
    "vscode": {
     "languageId": "cpp"
    }
   },
   "outputs": [],
   "source": [
    "#pragma cling load(\"libligebra\") // ignore this line if you are not using Jupyter Notebook\n",
    "#include \"src/SquareMatrix.h\""
   ]
  },
  {
   "attachments": {},
   "cell_type": "markdown",
   "metadata": {},
   "source": [
    "# Matrix construction\n",
    "\n",
    "Only square matrices and augmented matrices with square coefficient matrices can be declared."
   ]
  },
  {
   "cell_type": "markdown",
   "metadata": {},
   "source": [
    "# Matrix manipulation methods\n",
    "\n",
    "Method | Description\n",
    "---|---\n",
    "`.transpose()` | \n",
    "`.calc_cout()` |\n",
    "`.leb_inv()` | \n",
    "`.stringify(dp)` | \n",
    "`.add_rows(row1, row2, k)` | \n",
    "`.scale_row(row, k)` | \n",
    "`.swap_col(col1, col2)` | \n",
    "`.swap_row(row1, row2)` | \n",
    "`.at(i, j)` | \n",
    "`.set_val(i, j, x)` | \n",
    "`.to_diag()`"
   ]
  },
  {
   "attachments": {},
   "cell_type": "markdown",
   "metadata": {},
   "source": [
    "# Matrix operations\n",
    "Operations between two matrices like addition, division, and multiplication, require both matrices to have compatible shapes. "
   ]
  },
  {
   "cell_type": "code",
   "execution_count": 3,
   "metadata": {
    "vscode": {
     "languageId": "cpp"
    }
   },
   "outputs": [
    {
     "name": "stdout",
     "output_type": "stream",
     "text": [
      "2.000     9.000     \n",
      "1.000     0.000     \n"
     ]
    }
   ],
   "source": [
    "    SquareMatrix A({{2, 10}, {0, 0}});\n",
    "    SquareMatrix B({{0, -1}, {1, 0}});\n",
    "    SquareMatrix Sum = A + B;\n",
    "    std::cout << (Sum.stringify());"
   ]
  },
  {
   "attachments": {},
   "cell_type": "markdown",
   "metadata": {},
   "source": [
    "# Matrix properties\n",
    "\n",
    "Method | Description\n",
    "---|---\n",
    "`.det()` | Returns determinant of matrix. If matrix is augmented, return determinant of coefficient matrix.\n",
    "`.rank()` | Returns rank of matrix.\n",
    "`.trace()` | Returns trace of matrix.\n",
    "`.is_diag_dominant(strict)` | Returns true if matrix is diagonally dominant. To check for strict dominance, set `strict` to true."
   ]
  },
  {
   "attachments": {},
   "cell_type": "markdown",
   "metadata": {},
   "source": [
    "Given the matrix\n",
    "\n",
    "\\begin{pmatrix}\n",
    "    25 & 125 & 35\\\\\n",
    "    3 & 4 & 1\\\\ 0 & 1 & 6\n",
    "\\end{pmatrix},\n",
    "\n",
    "the properties can be calculated as follows:"
   ]
  },
  {
   "cell_type": "code",
   "execution_count": 3,
   "metadata": {
    "vscode": {
     "languageId": "cpp"
    }
   },
   "outputs": [
    {
     "name": "stdout",
     "output_type": "stream",
     "text": [
      "-1570\n",
      "3\n",
      "35\n"
     ]
    }
   ],
   "source": [
    "SquareMatrix A({{25, 125, 35}, {3, 4, 1}, {0, 1, 6}});\n",
    "std::cout << (A.det()) << std::endl;\n",
    "std::cout << (A.rank()) << std::endl;\n",
    "std::cout << (A.trace()) << std::endl;"
   ]
  },
  {
   "cell_type": "markdown",
   "metadata": {},
   "source": [
    "# Solving system of linear equations"
   ]
  },
  {
   "attachments": {},
   "cell_type": "markdown",
   "metadata": {},
   "source": [
    "To solve a system of linear equations the following methods are available:\n",
    "\n",
    "Method | Description\n",
    "---|---\n",
    "`.solve_approx(useSeidelMethod, initial_approx, iterations, dp)` | Uses either Gauss-Jacobi or Gauss-Seidel method on a diagonally dominant matrix.\n",
    "`.solve_cramer()` | Uses Cramer's rule to find exact solution.\n",
    "`.to_rref()` | Uses Gaussian elimination.\n",
    "`.solve_plu()` | Uses LU/PLU decomposition method with partial pivoting.\n",
    "\n",
    "Suppose we need to solve the following system of equations using Gauss-Seidel method:\n",
    "\n",
    "\\begin{align}\n",
    "10x_1 + x_2 + 2x_3 + 3x_4 = 30\\\\\n",
    "x_1 + 15x_2 + 2x_3 -5x_4 = 17\\\\\n",
    "x_2 +20x_3 + 3x_4 = 74\\\\\n",
    "3x_1 -10x_2 -x_3 +25x_4 = 80\n",
    "\\end{align}\n",
    "\n",
    "Let our initial approximation for $(x_1, x_2, x_3, x_4) = (0,0,0,0)$ and let's calculate 6 iterations:"
   ]
  },
  {
   "cell_type": "code",
   "execution_count": 4,
   "metadata": {
    "vscode": {
     "languageId": "cpp"
    }
   },
   "outputs": [
    {
     "name": "stdout",
     "output_type": "stream",
     "text": [
      "Gauss-seidel method\n",
      "Iteration      x1             x2             x3             x4             \n",
      "0              0.0000         0.0000         0.0000         0.0000         \n",
      "1              3.0000         0.9333         3.6533         3.3595         \n",
      "2              1.1682         1.6882         3.1117         3.8596         \n",
      "3              1.0510         1.9349         3.0243         3.9688         \n",
      "4              1.0110         1.9856         3.0054         3.9931         \n",
      "5              1.0024         1.9968         3.0012         3.9985         \n",
      "6              1.0005         1.9993         3.0003         3.9997         \n"
     ]
    }
   ],
   "source": [
    "SquareMatrix A({{10, 1, 2, 3, 30},\n",
    "                {1, 15, 2, -5, 17},\n",
    "                {0, 1, 20, 3, 74},\n",
    "                {3, -10, -1, 25, 80}},\n",
    "                true);\n",
    "A.solve_approx(true, {0, 0, 0, 0}, 6, 4); \n",
    "A.calc_cout(); // output calculations"
   ]
  },
  {
   "attachments": {},
   "cell_type": "markdown",
   "metadata": {},
   "source": [
    "To use Gauss-Jacobi method:"
   ]
  },
  {
   "cell_type": "code",
   "execution_count": 5,
   "metadata": {
    "vscode": {
     "languageId": "cpp"
    }
   },
   "outputs": [
    {
     "name": "stdout",
     "output_type": "stream",
     "text": [
      "Gauss-jacobi method\n",
      "Iteration      x1             x2             x3             x4             \n",
      "0              0.0000         0.0000         0.0000         0.0000         \n",
      "1              3.0000         1.1333         3.7000         3.2000         \n",
      "2              1.1867         1.5067         3.1633         3.4413         \n",
      "3              1.1843         1.7796         3.1085         3.7868         \n",
      "4              1.0643         1.9022         3.0430         3.8940         \n",
      "5              1.0330         1.9547         3.0208         3.9549         \n",
      "6              1.0139         1.9800         3.0090         3.9787         \n"
     ]
    }
   ],
   "source": [
    "SquareMatrix A({{10, 1, 2, 3, 30},\n",
    "                {1, 15, 2, -5, 17},\n",
    "                {0, 1, 20, 3, 74},\n",
    "                {3, -10, -1, 25, 80}},\n",
    "                true);\n",
    "A.solve_approx(0, {0, 0, 0, 0}, 6, 4); \n",
    "A.calc_cout();"
   ]
  },
  {
   "attachments": {},
   "cell_type": "markdown",
   "metadata": {
    "vscode": {
     "languageId": "cpp"
    }
   },
   "source": [
    "# Detailed calculations\n",
    "\n",
    "Method | Description\n",
    "---|---\n",
    "`.to_ref()` |\n",
    "`.to_rref()` | \n",
    "`.gauss_inv()` | \n",
    "`.get_PLU()`|\n",
    "`.solve_plu()` | "
   ]
  },
  {
   "cell_type": "code",
   "execution_count": null,
   "metadata": {
    "vscode": {
     "languageId": "cpp"
    }
   },
   "outputs": [],
   "source": []
  }
 ],
 "metadata": {
  "kernelspec": {
   "display_name": "C++17",
   "language": "C++17",
   "name": "xcpp17"
  },
  "language_info": {
   "codemirror_mode": "text/x-c++src",
   "file_extension": ".cpp",
   "mimetype": "text/x-c++src",
   "name": "c++",
   "version": "17"
  },
  "orig_nbformat": 4
 },
 "nbformat": 4,
 "nbformat_minor": 2
}
