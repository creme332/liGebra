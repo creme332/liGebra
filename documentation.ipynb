{
 "cells": [
  {
   "attachments": {},
   "cell_type": "markdown",
   "metadata": {},
   "source": [
    "```\n",
    "                                                                  \n",
    ".---.                                                             \n",
    "|   |.--.              __.....__     /|                           \n",
    "|   ||__|  .--./)  .-''         '.   ||                           \n",
    "|   |.--. /.''\\\\  /     .-''\"'-.  `. ||        .-,.--.            \n",
    "|   ||  || |  | |/     /________\\   \\||  __    |  .-. |    __     \n",
    "|   ||  | \\`-' / |                  |||/'__ '. | |  | | .:--.'.   \n",
    "|   ||  | /(\"'`  \\    .-------------'|:/`  '. '| |  | |/ |   \\ |  \n",
    "|   ||  | \\ '---. \\    '-.____...---.||     | || |  '- `\" __ | |  \n",
    "|   ||__|  /'\"\"'.\\ `.             .' ||\\    / '| |      .'.''| |  \n",
    "'---'     ||     ||  `''-...... -'   |/\\'..' / | |     / /   | |_ \n",
    "          \\'. __//                   '  `'-'`  |_|     \\ \\._,\\ '/ \n",
    "           `'---'                                       `--'  `\"  \n",
    "```"
   ]
  },
  {
   "cell_type": "code",
   "execution_count": 1,
   "metadata": {
    "vscode": {
     "languageId": "cpp"
    }
   },
   "outputs": [],
   "source": [
    "#pragma cling load(\"libligebra\") // ignore this line if you are not using Jupyter Notebook\n",
    "#include \"src/SquareMatrix.h\""
   ]
  },
  {
   "attachments": {},
   "cell_type": "markdown",
   "metadata": {},
   "source": [
    "# Matrix construction\n",
    "\n",
    "Only square matrices and augmented matrices with square coefficient matrices can be declared."
   ]
  },
  {
   "cell_type": "code",
   "execution_count": 2,
   "metadata": {
    "vscode": {
     "languageId": "cpp"
    }
   },
   "outputs": [
    {
     "name": "stdout",
     "output_type": "stream",
     "text": [
      "┌                        ┐\n",
      "|    2.000     10.000    |      \n",
      "|    0.000     0.000     |      \n",
      "└                        ┘\n"
     ]
    }
   ],
   "source": [
    "    SquareMatrix A({{2, 10}, {0, 0}});\n",
    "    std::cout << (A.stringify());"
   ]
  },
  {
   "cell_type": "markdown",
   "metadata": {},
   "source": [
    "# Matrix manipulation methods\n",
    "\n",
    "Method | Description\n",
    "---|---\n",
    "`.transpose()` | \n",
    "`.calc_cout()` |\n",
    "`.leb_inv()` | \n",
    "`.stringify(dp)` | \n",
    "`.add_rows(row1, row2, k)` | \n",
    "`.scale_row(row, k)` | \n",
    "`.swap_col(col1, col2)` | \n",
    "`.swap_row(row1, row2)` | \n",
    "`.at(i, j)` | \n",
    "`.set_val(i, j, x)` | \n",
    "`.to_diag()`"
   ]
  },
  {
   "attachments": {},
   "cell_type": "markdown",
   "metadata": {},
   "source": [
    "# Matrix operations\n",
    "Operations between two matrices like addition, division, and multiplication, require both matrices to have compatible shapes. "
   ]
  },
  {
   "cell_type": "code",
   "execution_count": 3,
   "metadata": {
    "vscode": {
     "languageId": "cpp"
    }
   },
   "outputs": [
    {
     "name": "stdout",
     "output_type": "stream",
     "text": [
      "┌                        ┐\n",
      "|    2.000     9.000     |      \n",
      "|    1.000     0.000     |      \n",
      "└                        ┘\n"
     ]
    }
   ],
   "source": [
    "    SquareMatrix A({{2, 10}, {0, 0}});\n",
    "    SquareMatrix B({{0, -1}, {1, 0}});\n",
    "    SquareMatrix Sum = A + B;\n",
    "    std::cout << (Sum.stringify());"
   ]
  },
  {
   "attachments": {},
   "cell_type": "markdown",
   "metadata": {},
   "source": [
    "# Matrix properties\n",
    "\n",
    "Method | Description\n",
    "---|---\n",
    "`.det()` | Returns determinant of matrix. If matrix is augmented, return determinant of coefficient matrix.\n",
    "`.rank()` | Returns rank of matrix.\n",
    "`.trace()` | Returns trace of matrix.\n",
    "`.is_diag_dominant(strict)` | Returns true if matrix is diagonally dominant. To check for strict dominance, set `strict` to true."
   ]
  },
  {
   "attachments": {},
   "cell_type": "markdown",
   "metadata": {},
   "source": [
    "Given the matrix\n",
    "\n",
    "\\begin{pmatrix}\n",
    "    25 & 125 & 35\\\\\n",
    "    3 & 4 & 1\\\\ 0 & 1 & 6\n",
    "\\end{pmatrix},\n",
    "\n",
    "the properties can be calculated as follows:"
   ]
  },
  {
   "cell_type": "code",
   "execution_count": 4,
   "metadata": {
    "vscode": {
     "languageId": "cpp"
    }
   },
   "outputs": [
    {
     "name": "stdout",
     "output_type": "stream",
     "text": [
      "-1570\n",
      "3\n",
      "35\n"
     ]
    }
   ],
   "source": [
    "SquareMatrix A({{25, 125, 35}, {3, 4, 1}, {0, 1, 6}});\n",
    "std::cout << (A.det()) << std::endl;\n",
    "std::cout << (A.rank()) << std::endl;\n",
    "std::cout << (A.trace()) << std::endl;"
   ]
  },
  {
   "cell_type": "markdown",
   "metadata": {},
   "source": [
    "# Solving system of linear equations"
   ]
  },
  {
   "attachments": {},
   "cell_type": "markdown",
   "metadata": {},
   "source": [
    "To solve a system of linear equations the following methods are available:\n",
    "\n",
    "Method | Description\n",
    "---|---\n",
    "`.solve_approx(useSeidelMethod, initial_approx, iterations, dp)` | Uses either Gauss-Jacobi or Gauss-Seidel method on a diagonally dominant matrix.\n",
    "`.solve_cramer()` | Uses Cramer's rule to find exact solution.\n",
    "`.to_rref()` | Uses Gaussian elimination.\n",
    "`.solve_plu()` | Uses LU/PLU decomposition method with partial pivoting.\n",
    "\n",
    "Suppose we need to solve the following system of equations:\n",
    "\n",
    "\\begin{align}\n",
    "10x_1 + x_2 + 2x_3 + 3x_4 = 30\\\\\n",
    "x_1 + 15x_2 + 2x_3 -5x_4 = 17\\\\\n",
    "x_2 +20x_3 + 3x_4 = 74\\\\\n",
    "3x_1 -10x_2 -x_3 +25x_4 = 80\n",
    "\\end{align}"
   ]
  },
  {
   "attachments": {},
   "cell_type": "markdown",
   "metadata": {},
   "source": [
    "## Gauss-Jacobi / Gauss-Seidel\n",
    "\n",
    "Let our initial approximation for $(x_1, x_2, x_3, x_4) = (0,0,0,0)$ and let's calculate 6 iterations:"
   ]
  },
  {
   "cell_type": "code",
   "execution_count": 5,
   "metadata": {
    "vscode": {
     "languageId": "cpp"
    }
   },
   "outputs": [
    {
     "name": "stdout",
     "output_type": "stream",
     "text": [
      "Gauss-seidel method\n",
      "Iteration      x1             x2             x3             x4             \n",
      "0              0.0000         0.0000         0.0000         0.0000         \n",
      "1              3.0000         0.9333         3.6533         3.3595         \n",
      "2              1.1682         1.6882         3.1117         3.8596         \n",
      "3              1.0510         1.9349         3.0243         3.9688         \n",
      "4              1.0110         1.9856         3.0054         3.9931         \n",
      "5              1.0024         1.9968         3.0012         3.9985         \n",
      "6              1.0005         1.9993         3.0003         3.9997         \n"
     ]
    }
   ],
   "source": [
    "SquareMatrix A({{10, 1, 2, 3, 30},\n",
    "                {1, 15, 2, -5, 17},\n",
    "                {0, 1, 20, 3, 74},\n",
    "                {3, -10, -1, 25, 80}},\n",
    "                true);\n",
    "A.solve_approx(true, {0, 0, 0, 0}, 6, 4); \n",
    "A.calc_cout(); // output calculations"
   ]
  },
  {
   "attachments": {},
   "cell_type": "markdown",
   "metadata": {},
   "source": [
    "To use Gauss-Jacobi method:"
   ]
  },
  {
   "cell_type": "code",
   "execution_count": 6,
   "metadata": {
    "vscode": {
     "languageId": "cpp"
    }
   },
   "outputs": [
    {
     "name": "stdout",
     "output_type": "stream",
     "text": [
      "Gauss-jacobi method\n",
      "Iteration      x1             x2             x3             x4             \n",
      "0              0.0000         0.0000         0.0000         0.0000         \n",
      "1              3.0000         1.1333         3.7000         3.2000         \n",
      "2              1.1867         1.5067         3.1633         3.4413         \n",
      "3              1.1843         1.7796         3.1085         3.7868         \n",
      "4              1.0643         1.9022         3.0430         3.8940         \n",
      "5              1.0330         1.9547         3.0208         3.9549         \n",
      "6              1.0139         1.9800         3.0090         3.9787         \n"
     ]
    }
   ],
   "source": [
    "SquareMatrix A({{10, 1, 2, 3, 30},\n",
    "                {1, 15, 2, -5, 17},\n",
    "                {0, 1, 20, 3, 74},\n",
    "                {3, -10, -1, 25, 80}},\n",
    "                true);\n",
    "A.solve_approx(0, {0, 0, 0, 0}, 6, 4); \n",
    "A.calc_cout();"
   ]
  },
  {
   "cell_type": "markdown",
   "metadata": {},
   "source": [
    "## Cramer's rule"
   ]
  },
  {
   "cell_type": "code",
   "execution_count": 7,
   "metadata": {
    "vscode": {
     "languageId": "cpp"
    }
   },
   "outputs": [
    {
     "name": "stdout",
     "output_type": "stream",
     "text": [
      "Coefficient matrix: \n",
      "\n",
      "┌                                                           ┐\n",
      "|    10.000    1.000     2.000     3.000     |    30.000    |      \n",
      "|    1.000     15.000    2.000     -5.000    |    17.000    |      \n",
      "|    0.000     1.000     20.000    3.000     |    74.000    |      \n",
      "|    3.000     -10.000   -1.000    25.000    |    80.000    |      \n",
      "└                                                           ┘\n",
      "\n",
      "Determinant = 60710\n",
      "\n",
      "Swap column 1 and column 5 in original matrix\n",
      "\n",
      "┌                                                           ┐\n",
      "|    30.000    1.000     2.000     3.000     |    10.000    |      \n",
      "|    17.000    15.000    2.000     -5.000    |    1.000     |      \n",
      "|    74.000    1.000     20.000    3.000     |    0.000     |      \n",
      "|    80.000    -10.000   -1.000    25.000    |    3.000     |      \n",
      "└                                                           ┘\n",
      "\n",
      "New determinant: 60710\n",
      "x1 = 60710 / 60710 = 1\n",
      "\n",
      "Swap column 2 and column 5 in original matrix\n",
      "\n",
      "┌                                                           ┐\n",
      "|    10.000    30.000    2.000     3.000     |    1.000     |      \n",
      "|    1.000     17.000    2.000     -5.000    |    15.000    |      \n",
      "|    0.000     74.000    20.000    3.000     |    1.000     |      \n",
      "|    3.000     80.000    -1.000    25.000    |    -10.000   |      \n",
      "└                                                           ┘\n",
      "\n",
      "New determinant: 121420\n",
      "x2 = 121420 / 60710 = 2\n",
      "\n",
      "Swap column 3 and column 5 in original matrix\n",
      "\n",
      "┌                                                           ┐\n",
      "|    10.000    1.000     30.000    3.000     |    2.000     |      \n",
      "|    1.000     15.000    17.000    -5.000    |    2.000     |      \n",
      "|    0.000     1.000     74.000    3.000     |    20.000    |      \n",
      "|    3.000     -10.000   80.000    25.000    |    -1.000    |      \n",
      "└                                                           ┘\n",
      "\n",
      "New determinant: 182130\n",
      "x3 = 182130 / 60710 = 3\n",
      "\n",
      "Swap column 4 and column 5 in original matrix\n",
      "\n",
      "┌                                                           ┐\n",
      "|    10.000    1.000     2.000     30.000    |    3.000     |      \n",
      "|    1.000     15.000    2.000     17.000    |    -5.000    |      \n",
      "|    0.000     1.000     20.000    74.000    |    3.000     |      \n",
      "|    3.000     -10.000   -1.000    80.000    |    25.000    |      \n",
      "└                                                           ┘\n",
      "\n",
      "New determinant: 242840\n",
      "x4 = 242840 / 60710 = 4\n",
      "\n"
     ]
    }
   ],
   "source": [
    "SquareMatrix A({{10, 1, 2, 3, 30},\n",
    "                {1, 15, 2, -5, 17},\n",
    "                {0, 1, 20, 3, 74},\n",
    "                {3, -10, -1, 25, 80}},\n",
    "                true);\n",
    "A.solve_cramer(); \n",
    "A.calc_cout();"
   ]
  },
  {
   "attachments": {},
   "cell_type": "markdown",
   "metadata": {
    "vscode": {
     "languageId": "cpp"
    }
   },
   "source": [
    "# Other matrix methods\n",
    "\n",
    "Method | Description\n",
    "---|---\n",
    "`.to_ref()` | Converts matrix to row-echelon form\n",
    "`.to_rref()` | Converts matrix to reduced-row echelon form\n",
    "`.gauss_inv()` | \n",
    "`.get_PLU()`|\n",
    " | "
   ]
  },
  {
   "cell_type": "code",
   "execution_count": 8,
   "metadata": {
    "vscode": {
     "languageId": "cpp"
    }
   },
   "outputs": [
    {
     "name": "stdout",
     "output_type": "stream",
     "text": [
      "Converting matrix below to row echelon form\n",
      "┌                                  ┐\n",
      "|    5.000     6.000     -1.000    |      \n",
      "|    1.000     4.000     2.000     |      \n",
      "|    1.000     -2.000    5.000     |      \n",
      "└                                  ┘\n",
      "\n",
      "R1 / 5\n",
      "┌                                  ┐\n",
      "|    1.000     1.200     -0.200    |      \n",
      "|    1.000     4.000     2.000     |      \n",
      "|    1.000     -2.000    5.000     |      \n",
      "└                                  ┘\n",
      "\n",
      "R2  - R1\n",
      "┌                                  ┐\n",
      "|    1.000     1.200     -0.200    |      \n",
      "|    0.000     2.800     2.200     |      \n",
      "|    1.000     -2.000    5.000     |      \n",
      "└                                  ┘\n",
      "\n",
      "R3  - R1\n",
      "┌                                  ┐\n",
      "|    1.000     1.200     -0.200    |      \n",
      "|    0.000     2.800     2.200     |      \n",
      "|    0.000     -3.200    5.200     |      \n",
      "└                                  ┘\n",
      "\n",
      "R2 / 2.8\n",
      "┌                                  ┐\n",
      "|    1.000     1.200     -0.200    |      \n",
      "|    0.000     1.000     0.786     |      \n",
      "|    0.000     -3.200    5.200     |      \n",
      "└                                  ┘\n",
      "\n",
      "R3  - R2 * -3.2\n",
      "┌                                  ┐\n",
      "|    1.000     1.200     -0.200    |      \n",
      "|    0.000     1.000     0.786     |      \n",
      "|    0.000     0.000     7.714     |      \n",
      "└                                  ┘\n",
      "\n",
      "R3 / 7.71429\n",
      "┌                                  ┐\n",
      "|    1.000     1.200     -0.200    |      \n",
      "|    0.000     1.000     0.786     |      \n",
      "|    0.000     0.000     1.000     |      \n",
      "└                                  ┘\n",
      "\n",
      "R2  - R3 * 0.785714\n",
      "\n",
      "┌                                  ┐\n",
      "|    1.000     1.200     -0.200    |      \n",
      "|    0.000     1.000     0.000     |      \n",
      "|    0.000     0.000     1.000     |      \n",
      "└                                  ┘\n",
      "\n",
      "R1  - R3 * -0.2\n",
      "\n",
      "┌                                  ┐\n",
      "|    1.000     1.200     0.000     |      \n",
      "|    0.000     1.000     0.000     |      \n",
      "|    0.000     0.000     1.000     |      \n",
      "└                                  ┘\n",
      "\n",
      "R1  - R2 * 1.2\n",
      "\n",
      "┌                                  ┐\n",
      "|    1.000     0.000     0.000     |      \n",
      "|    0.000     1.000     0.000     |      \n",
      "|    0.000     0.000     1.000     |      \n",
      "└                                  ┘\n",
      "\n"
     ]
    }
   ],
   "source": [
    "SquareMatrix A({{5, 6, -1}, {1, 4, 2}, {1, -2, 5}});\n",
    "A.to_rref();\n",
    "A.calc_cout();"
   ]
  },
  {
   "cell_type": "code",
   "execution_count": 9,
   "metadata": {
    "vscode": {
     "languageId": "cpp"
    }
   },
   "outputs": [
    {
     "name": "stdout",
     "output_type": "stream",
     "text": [
      "Initialise matrix U:\n",
      "┌                                  ┐\n",
      "|    5.000     6.000     -1.000    |      \n",
      "|    1.000     4.000     2.000     |      \n",
      "|    1.000     -2.000    5.000     |      \n",
      "└                                  ┘\n",
      "\n",
      "Matrix U: R1 / 5\n",
      "┌                                  ┐\n",
      "|    1.000     1.200     -0.200    |      \n",
      "|    1.000     4.000     2.000     |      \n",
      "|    1.000     -2.000    5.000     |      \n",
      "└                                  ┘\n",
      "\n",
      "Update Matrix L\n",
      "┌                                  ┐\n",
      "|    5.000     0.000     0.000     |      \n",
      "|    0.000     1.000     0.000     |      \n",
      "|    0.000     0.000     1.000     |      \n",
      "└                                  ┘\n",
      "\n",
      "Matrix U: R2  - R1\n",
      "┌                                  ┐\n",
      "|    1.000     1.200     -0.200    |      \n",
      "|    0.000     2.800     2.200     |      \n",
      "|    1.000     -2.000    5.000     |      \n",
      "└                                  ┘\n",
      "\n",
      "Update Matrix L\n",
      "┌                                  ┐\n",
      "|    5.000     0.000     0.000     |      \n",
      "|    1.000     1.000     0.000     |      \n",
      "|    0.000     0.000     1.000     |      \n",
      "└                                  ┘\n",
      "\n",
      "Matrix U: R3  - R1\n",
      "┌                                  ┐\n",
      "|    1.000     1.200     -0.200    |      \n",
      "|    0.000     2.800     2.200     |      \n",
      "|    0.000     -3.200    5.200     |      \n",
      "└                                  ┘\n",
      "\n",
      "Update Matrix L\n",
      "┌                                  ┐\n",
      "|    5.000     0.000     0.000     |      \n",
      "|    1.000     1.000     0.000     |      \n",
      "|    1.000     0.000     1.000     |      \n",
      "└                                  ┘\n",
      "\n",
      "Matrix U: R2 / 2.8\n",
      "┌                                  ┐\n",
      "|    1.000     1.200     -0.200    |      \n",
      "|    0.000     1.000     0.786     |      \n",
      "|    0.000     -3.200    5.200     |      \n",
      "└                                  ┘\n",
      "\n",
      "Update Matrix L\n",
      "┌                                  ┐\n",
      "|    5.000     0.000     0.000     |      \n",
      "|    1.000     2.800     0.000     |      \n",
      "|    1.000     0.000     1.000     |      \n",
      "└                                  ┘\n",
      "\n",
      "Matrix U: R3  - R2 * -3.2\n",
      "┌                                  ┐\n",
      "|    1.000     1.200     -0.200    |      \n",
      "|    0.000     1.000     0.786     |      \n",
      "|    0.000     0.000     7.714     |      \n",
      "└                                  ┘\n",
      "\n",
      "Update Matrix L\n",
      "┌                                  ┐\n",
      "|    5.000     0.000     0.000     |      \n",
      "|    1.000     2.800     0.000     |      \n",
      "|    1.000     -3.200    1.000     |      \n",
      "└                                  ┘\n",
      "\n",
      "Matrix U: R3 / 7.71429\n",
      "┌                                  ┐\n",
      "|    1.000     1.200     -0.200    |      \n",
      "|    0.000     1.000     0.786     |      \n",
      "|    0.000     0.000     1.000     |      \n",
      "└                                  ┘\n",
      "\n",
      "Update Matrix L\n",
      "┌                                  ┐\n",
      "|    5.000     0.000     0.000     |      \n",
      "|    1.000     2.800     0.000     |      \n",
      "|    1.000     -3.200    7.714     |      \n",
      "└                                  ┘\n",
      "\n",
      "Final Matrix P:\n",
      "┌                                  ┐\n",
      "|    1.000     0.000     0.000     |      \n",
      "|    0.000     1.000     0.000     |      \n",
      "|    0.000     0.000     1.000     |      \n",
      "└                                  ┘\n",
      "\n",
      "Final Matrix L:\n",
      "┌                                  ┐\n",
      "|    5.000     0.000     0.000     |      \n",
      "|    1.000     2.800     0.000     |      \n",
      "|    1.000     -3.200    7.714     |      \n",
      "└                                  ┘\n",
      "\n",
      "Final Matrix U:\n",
      "┌                                  ┐\n",
      "|    1.000     1.200     -0.200    |      \n",
      "|    0.000     1.000     0.786     |      \n",
      "|    0.000     0.000     1.000     |      \n",
      "└                                  ┘\n",
      "\n"
     ]
    }
   ],
   "source": [
    "SquareMatrix A({{5, 6, -1}, {1, 4, 2}, {1, -2, 5}});\n",
    "A.get_PLU();\n",
    "A.calc_cout();"
   ]
  },
  {
   "cell_type": "code",
   "execution_count": 11,
   "metadata": {
    "vscode": {
     "languageId": "cpp"
    }
   },
   "outputs": [
    {
     "name": "stdout",
     "output_type": "stream",
     "text": [
      "Converting matrix to strict diagonally dominant form: \n",
      "┌                                  ┐\n",
      "|    5.000     6.000     -1.000    |      \n",
      "|    1.000     4.000     2.000     |      \n",
      "|    1.000     -2.000    5.000     |      \n",
      "└                                  ┘\n",
      "\n",
      "Each row now contains 1 dominant element.\n",
      "4 * R1 - 6 * R2\n",
      "┌                                  ┐\n",
      "|    14.000    0.000     -16.000   |      \n",
      "|    1.000     4.000     2.000     |      \n",
      "|    1.000     -2.000    5.000     |      \n",
      "└                                  ┘\n",
      "\n",
      "5 * R1 - -16 * R3\n",
      "┌                                  ┐\n",
      "|    86.000    -32.000   0.000     |      \n",
      "|    1.000     4.000     2.000     |      \n",
      "|    1.000     -2.000    5.000     |      \n",
      "└                                  ┘\n",
      "\n",
      "Final matrix after rearranging rows: \n",
      "┌                                  ┐\n",
      "|    86.000    -32.000   0.000     |      \n",
      "|    1.000     4.000     2.000     |      \n",
      "|    1.000     -2.000    5.000     |      \n",
      "└                                  ┘\n",
      "\n"
     ]
    }
   ],
   "source": [
    "SquareMatrix A({{5, 6, -1}, {1, 4, 2}, {1, -2, 5}});\n",
    "A.to_diag(false);\n",
    "A.calc_cout();"
   ]
  },
  {
   "cell_type": "code",
   "execution_count": null,
   "metadata": {
    "vscode": {
     "languageId": "cpp"
    }
   },
   "outputs": [],
   "source": []
  }
 ],
 "metadata": {
  "kernelspec": {
   "display_name": "C++17",
   "language": "C++17",
   "name": "xcpp17"
  },
  "language_info": {
   "codemirror_mode": "text/x-c++src",
   "file_extension": ".cpp",
   "mimetype": "text/x-c++src",
   "name": "c++",
   "version": "17"
  },
  "orig_nbformat": 4
 },
 "nbformat": 4,
 "nbformat_minor": 2
}
