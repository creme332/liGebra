{
 "cells": [
  {
   "cell_type": "code",
   "execution_count": 1,
   "metadata": {
    "vscode": {
     "languageId": "cpp"
    }
   },
   "outputs": [],
   "source": [
    "#pragma cling load(\"libligebra\") // ignore this line if you are not using Jupyter Notebook\n",
    "#include \"src/SquareMatrix.h\""
   ]
  },
  {
   "attachments": {},
   "cell_type": "markdown",
   "metadata": {},
   "source": [
    "Suppose we need to solve the following system of equations using Gauss-Seidel method:\n",
    "\n",
    "$$\n",
    "10x_1 + x_2 + 2x_3 + 3x_4 = 30\\\\\n",
    "x_1 + 15x_2 + 2x_3 -5x_4 = 17\\\\\n",
    "x_2 +20x_3 + 3x_4 = 74\\\\\n",
    "3x_1 -10x_2 -x_3 +25x_4 = 80\n",
    "$$\n",
    "\n",
    "Let our initial approximation for $(x_1, x_2, x_3, x_4) = (0,0,0,0)$ and let's calculate 6 iterations:"
   ]
  },
  {
   "cell_type": "code",
   "execution_count": 4,
   "metadata": {
    "vscode": {
     "languageId": "cpp"
    }
   },
   "outputs": [
    {
     "name": "stdout",
     "output_type": "stream",
     "text": [
      "Gauss-seidel method\n",
      "Iteration      x1             x2             x3             x4             \n",
      "0              0.0000         0.0000         0.0000         0.0000         \n",
      "1              3.0000         0.9333         3.6533         3.3595         \n",
      "2              1.1682         1.6882         3.1117         3.8596         \n",
      "3              1.0510         1.9349         3.0243         3.9688         \n",
      "4              1.0110         1.9856         3.0054         3.9931         \n",
      "5              1.0024         1.9968         3.0012         3.9985         \n",
      "6              1.0005         1.9993         3.0003         3.9997         \n"
     ]
    }
   ],
   "source": [
    "SquareMatrix A({{10, 1, 2, 3, 30},\n",
    "                {1, 15, 2, -5, 17},\n",
    "                {0, 1, 20, 3, 74},\n",
    "                {3, -10, -1, 25, 80}},\n",
    "                true);\n",
    "A.solve_approx(1, {0, 0, 0, 0}, 6); // first parameter indicates that we are using Gauss-seidel.\n",
    "A.calc_cout() // output calculations"
   ]
  },
  {
   "attachments": {},
   "cell_type": "markdown",
   "metadata": {},
   "source": [
    "You can also specify the number of decimal places:"
   ]
  },
  {
   "cell_type": "code",
   "execution_count": 7,
   "metadata": {
    "vscode": {
     "languageId": "cpp"
    }
   },
   "outputs": [
    {
     "name": "stdout",
     "output_type": "stream",
     "text": [
      "Gauss-seidel method\n",
      "Iteration      x1             x2             x3             x4             \n",
      "0              0.00000        0.00000        0.00000        0.00000        \n",
      "1              3.00000        0.93333        3.65333        3.35947        \n",
      "2              1.16816        1.68817        3.11167        3.85955        \n",
      "3              1.05098        1.93490        3.02432        3.96881        \n",
      "4              1.01100        1.98563        3.00540        3.99315        \n",
      "5              1.00241        1.99684        3.00119        3.99849        \n",
      "6              1.00053        1.99930        3.00026        3.99967        \n"
     ]
    }
   ],
   "source": [
    "SquareMatrix A({{10, 1, 2, 3, 30},\n",
    "                {1, 15, 2, -5, 17},\n",
    "                {0, 1, 20, 3, 74},\n",
    "                {3, -10, -1, 25, 80}},\n",
    "                true);\n",
    "A.solve_approx(1, {0, 0, 0, 0}, 6, 5); // use 5 decimal places for iterations\n",
    "A.calc_cout() "
   ]
  },
  {
   "cell_type": "code",
   "execution_count": null,
   "metadata": {
    "vscode": {
     "languageId": "cpp"
    }
   },
   "outputs": [],
   "source": []
  }
 ],
 "metadata": {
  "kernelspec": {
   "display_name": "C++17",
   "language": "C++17",
   "name": "xcpp17"
  },
  "language_info": {
   "codemirror_mode": "text/x-c++src",
   "file_extension": ".cpp",
   "mimetype": "text/x-c++src",
   "name": "c++",
   "version": "17"
  },
  "orig_nbformat": 4
 },
 "nbformat": 4,
 "nbformat_minor": 2
}
